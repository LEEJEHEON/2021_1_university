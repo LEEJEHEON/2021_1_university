{
 "cells": [
  {
   "cell_type": "code",
   "execution_count": 1,
   "metadata": {},
   "outputs": [],
   "source": [
    "import os,re ,usecsv"
   ]
  },
  {
   "cell_type": "code",
   "execution_count": 2,
   "metadata": {},
   "outputs": [
    {
     "data": {
      "text/plain": [
       "'/media/dlwpgjs0723/ESD-USB/대학교/4학년 1학기/python 프젝/9주차 data'"
      ]
     },
     "execution_count": 2,
     "metadata": {},
     "output_type": "execute_result"
    }
   ],
   "source": [
    "os.getcwd()"
   ]
  },
  {
   "cell_type": "code",
   "execution_count": 3,
   "metadata": {},
   "outputs": [],
   "source": [
    "filelise = os.listdir(os.getcwd())"
   ]
  },
  {
   "cell_type": "code",
   "execution_count": 4,
   "metadata": {},
   "outputs": [
    {
     "data": {
      "text/plain": [
       "['9강.ipynb',\n",
       " 'usecsv.py',\n",
       " 'apt_201910.csv',\n",
       " 'popSeoul.csv',\n",
       " '.ipynb_checkpoints',\n",
       " '__pycache__']"
      ]
     },
     "execution_count": 4,
     "metadata": {},
     "output_type": "execute_result"
    }
   ],
   "source": [
    "filelise"
   ]
  },
  {
   "cell_type": "code",
   "execution_count": 5,
   "metadata": {},
   "outputs": [],
   "source": [
    "total = usecsv.opencsv('popSeoul.csv')"
   ]
  },
  {
   "cell_type": "code",
   "execution_count": 6,
   "metadata": {},
   "outputs": [
    {
     "data": {
      "text/plain": [
       "[['Gu', 'Korean', 'Foreigner', 'Senior'],\n",
       " ['Total', '9,740,398', '285,529', '1,468,146'],\n",
       " ['Jongrogu', '151,767', '11,093', '27,394'],\n",
       " ['Jongru', '126,409', '10,254', '23,025'],\n",
       " ['Yongsangu', '228,830', '16,159', '38,531'],\n",
       " ['Seongdonggu', '303,158', '8,132', '43,662'],\n",
       " ['Kwangjingu', '352,692', '15,645', '47,347'],\n",
       " ['Dongdaemoongu', '346,551', '17,228', '58,764'],\n",
       " ['Jungranggu', '398,812', '4,964', '64,449'],\n",
       " ['Seongbukgu', '441,590', '12,524', '70,204'],\n",
       " ['Gangbukgu', '314,090', '3,785', '59,808'],\n",
       " ['Dobonggu', '335,280', '2,314', '58,070'],\n",
       " ['Nowonggu', '535,282', '4,547', '79,968'],\n",
       " ['Eunpyonggu', '481,663', '4,496', '79,957'],\n",
       " ['Seodaemungu', '310,069', '14,020', '51,708'],\n",
       " ['Mapogu', '373,629', '11,976', '51,961'],\n",
       " ['Yangcheongu', '459,849', '4,082', '60,487'],\n",
       " ['Gangseogu', '593,708', '6,532', '82,937'],\n",
       " ['Gurogu', '406,748', '33,102', '64,952'],\n",
       " ['Guemcheongu', '233,371', '19,497', '37,191'],\n",
       " ['Youngdeungpogu', '368,402', '34,076', '57,350'],\n",
       " ['Dongjakgu', '397,618', '12,869', '61,607'],\n",
       " ['Kwanakgu', '502,117', '17,836', '74,518'],\n",
       " ['Seoucheogu', '431,027', '4,231', '56,455'],\n",
       " ['Gangnamgu', '544,028', '5,015', '70,029'],\n",
       " ['Songpagu', '677,489', '6,849', '86,062'],\n",
       " ['Gangdonggu', '426,219', '4,303', '61,710']]"
      ]
     },
     "execution_count": 6,
     "metadata": {},
     "output_type": "execute_result"
    }
   ],
   "source": [
    "total "
   ]
  },
  {
   "cell_type": "code",
   "execution_count": 7,
   "metadata": {},
   "outputs": [],
   "source": [
    "newPop = usecsv.switch(total)"
   ]
  },
  {
   "cell_type": "code",
   "execution_count": 8,
   "metadata": {},
   "outputs": [
    {
     "data": {
      "text/plain": [
       "[['Gu', 'Korean', 'Foreigner', 'Senior'],\n",
       " ['Total', 9740398.0, 285529.0, 1468146.0],\n",
       " ['Jongrogu', 151767.0, 11093.0, 27394.0],\n",
       " ['Jongru', 126409.0, 10254.0, 23025.0],\n",
       " ['Yongsangu', 228830.0, 16159.0, 38531.0],\n",
       " ['Seongdonggu', 303158.0, 8132.0, 43662.0],\n",
       " ['Kwangjingu', 352692.0, 15645.0, 47347.0],\n",
       " ['Dongdaemoongu', 346551.0, 17228.0, 58764.0],\n",
       " ['Jungranggu', 398812.0, 4964.0, 64449.0],\n",
       " ['Seongbukgu', 441590.0, 12524.0, 70204.0],\n",
       " ['Gangbukgu', 314090.0, 3785.0, 59808.0],\n",
       " ['Dobonggu', 335280.0, 2314.0, 58070.0],\n",
       " ['Nowonggu', 535282.0, 4547.0, 79968.0],\n",
       " ['Eunpyonggu', 481663.0, 4496.0, 79957.0],\n",
       " ['Seodaemungu', 310069.0, 14020.0, 51708.0],\n",
       " ['Mapogu', 373629.0, 11976.0, 51961.0],\n",
       " ['Yangcheongu', 459849.0, 4082.0, 60487.0],\n",
       " ['Gangseogu', 593708.0, 6532.0, 82937.0],\n",
       " ['Gurogu', 406748.0, 33102.0, 64952.0],\n",
       " ['Guemcheongu', 233371.0, 19497.0, 37191.0],\n",
       " ['Youngdeungpogu', 368402.0, 34076.0, 57350.0],\n",
       " ['Dongjakgu', 397618.0, 12869.0, 61607.0],\n",
       " ['Kwanakgu', 502117.0, 17836.0, 74518.0],\n",
       " ['Seoucheogu', 431027.0, 4231.0, 56455.0],\n",
       " ['Gangnamgu', 544028.0, 5015.0, 70029.0],\n",
       " ['Songpagu', 677489.0, 6849.0, 86062.0],\n",
       " ['Gangdonggu', 426219.0, 4303.0, 61710.0]]"
      ]
     },
     "execution_count": 8,
     "metadata": {},
     "output_type": "execute_result"
    }
   ],
   "source": [
    "newPop"
   ]
  },
  {
   "cell_type": "code",
   "execution_count": 9,
   "metadata": {},
   "outputs": [],
   "source": [
    "i = newPop[1]"
   ]
  },
  {
   "cell_type": "code",
   "execution_count": 10,
   "metadata": {},
   "outputs": [
    {
     "data": {
      "text/plain": [
       "['Total', 9740398.0, 285529.0, 1468146.0]"
      ]
     },
     "execution_count": 10,
     "metadata": {},
     "output_type": "execute_result"
    }
   ],
   "source": [
    "i"
   ]
  },
  {
   "cell_type": "code",
   "execution_count": 11,
   "metadata": {},
   "outputs": [
    {
     "data": {
      "text/plain": [
       "2.847906233508383"
      ]
     },
     "execution_count": 11,
     "metadata": {},
     "output_type": "execute_result"
    }
   ],
   "source": [
    "i[2]/(i[1]+i[2]) *100"
   ]
  },
  {
   "cell_type": "code",
   "execution_count": 12,
   "metadata": {},
   "outputs": [
    {
     "data": {
      "text/plain": [
       "2.85"
      ]
     },
     "execution_count": 12,
     "metadata": {},
     "output_type": "execute_result"
    }
   ],
   "source": [
    "round(i[2]/(i[1]+i[2]) *100,2)"
   ]
  },
  {
   "cell_type": "code",
   "execution_count": 13,
   "metadata": {},
   "outputs": [],
   "source": [
    "foreign= round(i[2]/(i[1]+i[2]) *100,2)"
   ]
  },
  {
   "cell_type": "code",
   "execution_count": 15,
   "metadata": {},
   "outputs": [
    {
     "name": "stdout",
     "output_type": "stream",
     "text": [
      "['Gu', 'Korean', 'Foreigner', 'Senior']\n"
     ]
    },
    {
     "ename": "TypeError",
     "evalue": "unsupported operand type(s) for /: 'str' and 'str'",
     "output_type": "error",
     "traceback": [
      "\u001b[0;31m---------------------------------------------------------------------------\u001b[0m",
      "\u001b[0;31mTypeError\u001b[0m                                 Traceback (most recent call last)",
      "\u001b[0;32m<ipython-input-15-e2d1252a1a43>\u001b[0m in \u001b[0;36m<module>\u001b[0;34m\u001b[0m\n\u001b[1;32m      2\u001b[0m \u001b[0;32mfor\u001b[0m \u001b[0mi\u001b[0m \u001b[0;32min\u001b[0m \u001b[0mnewPop\u001b[0m\u001b[0;34m:\u001b[0m\u001b[0;34m\u001b[0m\u001b[0;34m\u001b[0m\u001b[0m\n\u001b[1;32m      3\u001b[0m     \u001b[0mprint\u001b[0m\u001b[0;34m(\u001b[0m\u001b[0mi\u001b[0m\u001b[0;34m)\u001b[0m\u001b[0;34m\u001b[0m\u001b[0;34m\u001b[0m\u001b[0m\n\u001b[0;32m----> 4\u001b[0;31m     \u001b[0mforeign\u001b[0m\u001b[0;34m=\u001b[0m \u001b[0mround\u001b[0m\u001b[0;34m(\u001b[0m\u001b[0mi\u001b[0m\u001b[0;34m[\u001b[0m\u001b[0;36m2\u001b[0m\u001b[0;34m]\u001b[0m\u001b[0;34m/\u001b[0m\u001b[0;34m(\u001b[0m\u001b[0mi\u001b[0m\u001b[0;34m[\u001b[0m\u001b[0;36m1\u001b[0m\u001b[0;34m]\u001b[0m\u001b[0;34m+\u001b[0m\u001b[0mi\u001b[0m\u001b[0;34m[\u001b[0m\u001b[0;36m2\u001b[0m\u001b[0;34m]\u001b[0m\u001b[0;34m)\u001b[0m \u001b[0;34m*\u001b[0m\u001b[0;36m100\u001b[0m\u001b[0;34m,\u001b[0m\u001b[0;36m2\u001b[0m\u001b[0;34m)\u001b[0m\u001b[0;34m\u001b[0m\u001b[0;34m\u001b[0m\u001b[0m\n\u001b[0m\u001b[1;32m      5\u001b[0m     \u001b[0mprint\u001b[0m\u001b[0;34m(\u001b[0m\u001b[0mi\u001b[0m\u001b[0;34m[\u001b[0m\u001b[0;36m0\u001b[0m\u001b[0;34m]\u001b[0m\u001b[0;34m,\u001b[0m \u001b[0mforeign\u001b[0m\u001b[0;34m)\u001b[0m\u001b[0;34m\u001b[0m\u001b[0;34m\u001b[0m\u001b[0m\n",
      "\u001b[0;31mTypeError\u001b[0m: unsupported operand type(s) for /: 'str' and 'str'"
     ]
    }
   ],
   "source": [
    "# 에러발생\n",
    "# 첫번째가 문자만 있어서 계산을 못하여 오류 \n",
    "for i in newPop:\n",
    "    print(i)\n",
    "    foreign= round(i[2]/(i[1]+i[2]) *100,2)\n",
    "    print(i[0], foreign)"
   ]
  },
  {
   "cell_type": "code",
   "execution_count": 16,
   "metadata": {},
   "outputs": [
    {
     "name": "stdout",
     "output_type": "stream",
     "text": [
      "Total 2.85\n",
      "Jongrogu 6.81\n",
      "Jongru 7.5\n",
      "Yongsangu 6.6\n",
      "Seongdonggu 2.61\n",
      "Kwangjingu 4.25\n",
      "Dongdaemoongu 4.74\n",
      "Jungranggu 1.23\n",
      "Seongbukgu 2.76\n",
      "Gangbukgu 1.19\n",
      "Dobonggu 0.69\n",
      "Nowonggu 0.84\n",
      "Eunpyonggu 0.92\n",
      "Seodaemungu 4.33\n",
      "Mapogu 3.11\n",
      "Yangcheongu 0.88\n",
      "Gangseogu 1.09\n",
      "Gurogu 7.53\n",
      "Guemcheongu 7.71\n",
      "Youngdeungpogu 8.47\n",
      "Dongjakgu 3.14\n",
      "Kwanakgu 3.43\n",
      "Seoucheogu 0.97\n",
      "Gangnamgu 0.91\n",
      "Songpagu 1.0\n",
      "Gangdonggu 1.0\n"
     ]
    }
   ],
   "source": [
    "for i in newPop:\n",
    "    try:\n",
    "        foreign= round(i[2]/(i[1]+i[2]) *100,2)\n",
    "        print(i[0], foreign)\n",
    "    except:\n",
    "        pass\n",
    "    "
   ]
  },
  {
   "cell_type": "code",
   "execution_count": 17,
   "metadata": {},
   "outputs": [],
   "source": [
    "new =[['gu','Korea','foreigner','%']]"
   ]
  },
  {
   "cell_type": "code",
   "execution_count": 18,
   "metadata": {},
   "outputs": [
    {
     "name": "stdout",
     "output_type": "stream",
     "text": [
      "Total 2.85\n",
      "Jongrogu 6.81\n",
      "Jongru 7.5\n",
      "Yongsangu 6.6\n",
      "Seongdonggu 2.61\n",
      "Kwangjingu 4.25\n",
      "Dongdaemoongu 4.74\n",
      "Jungranggu 1.23\n",
      "Seongbukgu 2.76\n",
      "Gangbukgu 1.19\n",
      "Dobonggu 0.69\n",
      "Nowonggu 0.84\n",
      "Eunpyonggu 0.92\n",
      "Seodaemungu 4.33\n",
      "Mapogu 3.11\n",
      "Yangcheongu 0.88\n",
      "Gangseogu 1.09\n",
      "Gurogu 7.53\n",
      "Guemcheongu 7.71\n",
      "Youngdeungpogu 8.47\n",
      "Dongjakgu 3.14\n",
      "Kwanakgu 3.43\n",
      "Seoucheogu 0.97\n",
      "Gangnamgu 0.91\n",
      "Songpagu 1.0\n",
      "Gangdonggu 1.0\n"
     ]
    }
   ],
   "source": [
    "for i in newPop:\n",
    "    foreign = 0\n",
    "    try:\n",
    "        foreign= round(i[2]/(i[1]+i[2]) *100,2)\n",
    "        print(i[0], foreign)\n",
    "        if foreign > 3.0 :\n",
    "            new.append([i[0],i[1],i[2],foreign])\n",
    "    except:\n",
    "        pass\n",
    "    "
   ]
  },
  {
   "cell_type": "code",
   "execution_count": 19,
   "metadata": {},
   "outputs": [
    {
     "data": {
      "text/plain": [
       "[['gu', 'Korea', 'foreigner', '%'],\n",
       " ['Jongrogu', 151767.0, 11093.0, 6.81],\n",
       " ['Jongru', 126409.0, 10254.0, 7.5],\n",
       " ['Yongsangu', 228830.0, 16159.0, 6.6],\n",
       " ['Kwangjingu', 352692.0, 15645.0, 4.25],\n",
       " ['Dongdaemoongu', 346551.0, 17228.0, 4.74],\n",
       " ['Seodaemungu', 310069.0, 14020.0, 4.33],\n",
       " ['Mapogu', 373629.0, 11976.0, 3.11],\n",
       " ['Gurogu', 406748.0, 33102.0, 7.53],\n",
       " ['Guemcheongu', 233371.0, 19497.0, 7.71],\n",
       " ['Youngdeungpogu', 368402.0, 34076.0, 8.47],\n",
       " ['Dongjakgu', 397618.0, 12869.0, 3.14],\n",
       " ['Kwanakgu', 502117.0, 17836.0, 3.43]]"
      ]
     },
     "execution_count": 19,
     "metadata": {},
     "output_type": "execute_result"
    }
   ],
   "source": [
    "new"
   ]
  },
  {
   "cell_type": "code",
   "execution_count": 21,
   "metadata": {},
   "outputs": [
    {
     "name": "stdout",
     "output_type": "stream",
     "text": [
      "['gu', 'Korea', 'foreigner', '%']\n",
      "['Jongrogu', 151767.0, 11093.0, 6.81]\n",
      "['Jongru', 126409.0, 10254.0, 7.5]\n",
      "['Yongsangu', 228830.0, 16159.0, 6.6]\n",
      "['Kwangjingu', 352692.0, 15645.0, 4.25]\n",
      "['Dongdaemoongu', 346551.0, 17228.0, 4.74]\n",
      "['Seodaemungu', 310069.0, 14020.0, 4.33]\n",
      "['Mapogu', 373629.0, 11976.0, 3.11]\n",
      "['Gurogu', 406748.0, 33102.0, 7.53]\n",
      "['Guemcheongu', 233371.0, 19497.0, 7.71]\n",
      "['Youngdeungpogu', 368402.0, 34076.0, 8.47]\n",
      "['Dongjakgu', 397618.0, 12869.0, 3.14]\n",
      "['Kwanakgu', 502117.0, 17836.0, 3.43]\n"
     ]
    }
   ],
   "source": [
    "for i in new:\n",
    "    print (i)"
   ]
  },
  {
   "cell_type": "code",
   "execution_count": 22,
   "metadata": {},
   "outputs": [],
   "source": [
    "usecsv.writecsv('newPop.csv', new)"
   ]
  },
  {
   "cell_type": "markdown",
   "metadata": {},
   "source": [
    "---------------------"
   ]
  },
  {
   "cell_type": "code",
   "execution_count": 23,
   "metadata": {},
   "outputs": [],
   "source": [
    "import os, usecsv"
   ]
  },
  {
   "cell_type": "code",
   "execution_count": 24,
   "metadata": {},
   "outputs": [
    {
     "data": {
      "text/plain": [
       "'/media/dlwpgjs0723/ESD-USB/대학교/4학년 1학기/python 프젝/9주차 data'"
      ]
     },
     "execution_count": 24,
     "metadata": {},
     "output_type": "execute_result"
    }
   ],
   "source": [
    "os.getcwd()"
   ]
  },
  {
   "cell_type": "code",
   "execution_count": 32,
   "metadata": {},
   "outputs": [],
   "source": [
    "import csv\n",
    "def opencsv(filename):\n",
    "    f = open(filename, 'r',encoding='cp949')\n",
    "    reader = csv.reader(f)\n",
    "    output = []\n",
    "    for i in reader:\n",
    "        output.append(i)\n",
    "    return output"
   ]
  },
  {
   "cell_type": "code",
   "execution_count": 33,
   "metadata": {},
   "outputs": [],
   "source": [
    "apt = opencsv('apt_201910.csv')"
   ]
  },
  {
   "cell_type": "code",
   "execution_count": 35,
   "metadata": {},
   "outputs": [],
   "source": [
    "apt = usecsv.switch(apt)"
   ]
  },
  {
   "cell_type": "code",
   "execution_count": 37,
   "metadata": {},
   "outputs": [
    {
     "data": {
      "text/plain": [
       "42759"
      ]
     },
     "execution_count": 37,
     "metadata": {},
     "output_type": "execute_result"
    }
   ],
   "source": [
    "len(apt)"
   ]
  },
  {
   "cell_type": "code",
   "execution_count": 39,
   "metadata": {},
   "outputs": [
    {
     "data": {
      "text/plain": [
       "['충청북도 충주시 호암동',\n",
       " '221-23',\n",
       " 221.0,\n",
       " 23.0,\n",
       " '호암리버빌(1단지)',\n",
       " 84.68,\n",
       " 201910.0,\n",
       " 26.0,\n",
       " 11200.0,\n",
       " 11.0,\n",
       " 2002.0,\n",
       " '원호암5길 32']"
      ]
     },
     "execution_count": 39,
     "metadata": {},
     "output_type": "execute_result"
    }
   ],
   "source": [
    "apt[-1]"
   ]
  },
  {
   "cell_type": "code",
   "execution_count": 40,
   "metadata": {},
   "outputs": [
    {
     "data": {
      "text/plain": [
       "['시군구', '번지', '본번', '부번', '단지명', '면적', '계약년월', '계약일', '가격', '층', '건축년도', '도로명']"
      ]
     },
     "execution_count": 40,
     "metadata": {},
     "output_type": "execute_result"
    }
   ],
   "source": [
    "apt[0]"
   ]
  },
  {
   "cell_type": "code",
   "execution_count": 41,
   "metadata": {},
   "outputs": [
    {
     "name": "stdout",
     "output_type": "stream",
     "text": [
      "시군구\n",
      "강원도 강릉시 견소동\n",
      "강원도 강릉시 견소동\n",
      "강원도 강릉시 견소동\n",
      "강원도 강릉시 견소동\n",
      "강원도 강릉시 견소동\n"
     ]
    }
   ],
   "source": [
    "for i in apt[:6]:\n",
    "    print(i[0])"
   ]
  },
  {
   "cell_type": "code",
   "execution_count": 42,
   "metadata": {},
   "outputs": [
    {
     "name": "stdout",
     "output_type": "stream",
     "text": [
      "시군구 면적\n",
      "강원도 강릉시 견소동 59.8\n",
      "강원도 강릉시 견소동 116.175\n",
      "강원도 강릉시 견소동 84.99\n",
      "강원도 강릉시 견소동 84.99\n",
      "강원도 강릉시 견소동 84.99\n"
     ]
    }
   ],
   "source": [
    "for i in apt[:6]:\n",
    "    print(i[0], i[5])"
   ]
  },
  {
   "cell_type": "code",
   "execution_count": 44,
   "metadata": {},
   "outputs": [
    {
     "name": "stdout",
     "output_type": "stream",
     "text": [
      "시군구 단지명 가격\n",
      "강원도 강릉시 견소동 송정한신 10900.0\n",
      "강원도 강릉시 견소동 송정한신 18500.0\n",
      "강원도 강릉시 견소동 송정해변신도브래뉴아파트 25000.0\n",
      "강원도 강릉시 견소동 송정해변신도브래뉴아파트 20600.0\n",
      "강원도 강릉시 견소동 송정해변신도브래뉴아파트 20500.0\n"
     ]
    }
   ],
   "source": [
    "for i in apt[:6]:\n",
    "    print(i[0], i[4],i[8])"
   ]
  },
  {
   "cell_type": "code",
   "execution_count": 45,
   "metadata": {},
   "outputs": [
    {
     "ename": "TypeError",
     "evalue": "'>' not supported between instances of 'str' and 'int'",
     "output_type": "error",
     "traceback": [
      "\u001b[0;31m---------------------------------------------------------------------------\u001b[0m",
      "\u001b[0;31mTypeError\u001b[0m                                 Traceback (most recent call last)",
      "\u001b[0;32m<ipython-input-45-9bfb83fc7bb7>\u001b[0m in \u001b[0;36m<module>\u001b[0;34m\u001b[0m\n\u001b[1;32m      1\u001b[0m \u001b[0;32mfor\u001b[0m \u001b[0mi\u001b[0m \u001b[0;32min\u001b[0m \u001b[0mapt\u001b[0m\u001b[0;34m:\u001b[0m\u001b[0;34m\u001b[0m\u001b[0;34m\u001b[0m\u001b[0m\n\u001b[0;32m----> 2\u001b[0;31m     \u001b[0;32mif\u001b[0m \u001b[0mi\u001b[0m\u001b[0;34m[\u001b[0m\u001b[0;36m5\u001b[0m\u001b[0;34m]\u001b[0m\u001b[0;34m>\u001b[0m\u001b[0;36m120\u001b[0m \u001b[0;32mand\u001b[0m \u001b[0mi\u001b[0m\u001b[0;34m[\u001b[0m\u001b[0;34m-\u001b[0m\u001b[0;36m4\u001b[0m\u001b[0;34m]\u001b[0m\u001b[0;34m<\u001b[0m\u001b[0;36m30000\u001b[0m \u001b[0;32mand\u001b[0m \u001b[0mre\u001b[0m\u001b[0;34m.\u001b[0m\u001b[0mmatch\u001b[0m\u001b[0;34m(\u001b[0m\u001b[0;34m'강원도'\u001b[0m\u001b[0;34m,\u001b[0m\u001b[0mi\u001b[0m\u001b[0;34m[\u001b[0m\u001b[0;36m0\u001b[0m\u001b[0;34m]\u001b[0m\u001b[0;34m)\u001b[0m\u001b[0;34m:\u001b[0m\u001b[0;34m\u001b[0m\u001b[0;34m\u001b[0m\u001b[0m\n\u001b[0m\u001b[1;32m      3\u001b[0m         \u001b[0mprint\u001b[0m\u001b[0;34m(\u001b[0m\u001b[0mi\u001b[0m\u001b[0;34m[\u001b[0m\u001b[0;36m0\u001b[0m\u001b[0;34m]\u001b[0m\u001b[0;34m,\u001b[0m \u001b[0mi\u001b[0m\u001b[0;34m[\u001b[0m\u001b[0;36m4\u001b[0m\u001b[0;34m]\u001b[0m\u001b[0;34m,\u001b[0m \u001b[0mi\u001b[0m\u001b[0;34m[\u001b[0m\u001b[0;36m5\u001b[0m\u001b[0;34m]\u001b[0m\u001b[0;34m,\u001b[0m\u001b[0mi\u001b[0m\u001b[0;34m[\u001b[0m\u001b[0;34m-\u001b[0m\u001b[0;36m4\u001b[0m\u001b[0;34m]\u001b[0m\u001b[0;34m)\u001b[0m\u001b[0;34m\u001b[0m\u001b[0;34m\u001b[0m\u001b[0m\n",
      "\u001b[0;31mTypeError\u001b[0m: '>' not supported between instances of 'str' and 'int'"
     ]
    }
   ],
   "source": [
    "# 첫번째가 한글이라서 안됨 \n",
    "for i in apt:\n",
    "    if i[5]>120 and i[-4]<30000 and re.match('강원도',i[0]):\n",
    "        print(i[0], i[4], i[5],i[-4])"
   ]
  },
  {
   "cell_type": "code",
   "execution_count": 46,
   "metadata": {},
   "outputs": [
    {
     "name": "stdout",
     "output_type": "stream",
     "text": [
      "강원도 강릉시 교동 현대하이빌 122.74 28500.0\n",
      "강원도 강릉시 남문동 삼익그린맨션 164.754 21000.0\n",
      "강원도 강릉시 입암동 강릉입암동금호어울림 123.09 27900.0\n",
      "강원도 강릉시 입암동 이안강릉타운 122.72 25000.0\n",
      "강원도 강릉시 홍제동 강릉홍제힐스테이트 129.689 27200.0\n",
      "강원도 강릉시 홍제동 강릉홍제힐스테이트 129.689 29900.0\n",
      "강원도 속초시 교동 현대1 121.98 16000.0\n",
      "강원도 속초시 교동 현대2 123.27 20500.0\n",
      "강원도 속초시 금호동 보람레이크더하임 156.76 29500.0\n",
      "강원도 영월군 영월읍 하송리 드림채 121.473 25500.0\n",
      "강원도 원주시 개운동 원주힐스테이트 133.9912 26000.0\n",
      "강원도 원주시 개운동 원주힐스테이트 137.4292 24000.0\n",
      "강원도 원주시 단구동 두산 134.97 19000.0\n",
      "강원도 원주시 단구동 두산 134.97 17500.0\n",
      "강원도 원주시 단구동 중앙하이츠아파트 133.8208 22500.0\n",
      "강원도 원주시 반곡동 반곡벽산블루밍1차 123.52 24000.0\n",
      "강원도 원주시 판부면 서곡리 원주더샾아파트 123.34 25700.0\n",
      "강원도 원주시 행구동 건영 133.92 15000.0\n",
      "강원도 춘천시 동면 만천리 춘천KCC스위첸 125.17 24200.0\n",
      "강원도 춘천시 동면 만천리 한일유앤아이 127.9717 28000.0\n",
      "강원도 춘천시 석사동 현대 134.99 23500.0\n",
      "강원도 춘천시 석사동 현진에버빌2차 126.25 29500.0\n",
      "강원도 춘천시 온의동 보배 126.57 15000.0\n",
      "강원도 춘천시 우두동 롯데인벤스 122.13 20500.0\n",
      "강원도 춘천시 우두동 롯데인벤스 122.13 25000.0\n",
      "강원도 춘천시 퇴계동 금호2차 134.43 15900.0\n",
      "강원도 춘천시 퇴계동 금호2차 134.43 14900.0\n",
      "강원도 춘천시 퇴계동 쌍용스윗닷홈 123.578 27000.0\n",
      "강원도 춘천시 퇴계동 쌍용스윗닷홈 123.578 28000.0\n",
      "강원도 춘천시 퇴계동 쌍용스윗닷홈 123.578 27900.0\n",
      "강원도 춘천시 퇴계동 중앙하이츠빌1단지 120.2572 25800.0\n",
      "강원도 춘천시 후평동 동아 135.0 13800.0\n",
      "강원도 춘천시 후평동 춘천더샵 127.2412 28500.0\n",
      "강원도 춘천시 후평동 한신 128.79 16500.0\n",
      "강원도 춘천시 후평동 한신 128.79 15500.0\n"
     ]
    }
   ],
   "source": [
    "for i in apt[1:]:\n",
    "    if i[5]>120 and i[-4]<30000 and re.match('강원도',i[0]):\n",
    "        print(i[0], i[4], i[5],i[-4])"
   ]
  },
  {
   "cell_type": "code",
   "execution_count": 47,
   "metadata": {},
   "outputs": [],
   "source": [
    "newlist =[]\n",
    "\n",
    "for i in apt[1:]:\n",
    "    if i[5]>120 and i[-4]<30000 and re.match('강원도',i[0]):\n",
    "        newlist.append([i[0], i[4], i[5],i[-4]])\n",
    "        "
   ]
  },
  {
   "cell_type": "code",
   "execution_count": 49,
   "metadata": {},
   "outputs": [
    {
     "data": {
      "text/plain": [
       "[['강원도 강릉시 교동', '현대하이빌', 122.74, 28500.0],\n",
       " ['강원도 강릉시 남문동', '삼익그린맨션', 164.754, 21000.0],\n",
       " ['강원도 강릉시 입암동', '강릉입암동금호어울림', 123.09, 27900.0],\n",
       " ['강원도 강릉시 입암동', '이안강릉타운', 122.72, 25000.0],\n",
       " ['강원도 강릉시 홍제동', '강릉홍제힐스테이트', 129.689, 27200.0],\n",
       " ['강원도 강릉시 홍제동', '강릉홍제힐스테이트', 129.689, 29900.0],\n",
       " ['강원도 속초시 교동', '현대1', 121.98, 16000.0],\n",
       " ['강원도 속초시 교동', '현대2', 123.27, 20500.0],\n",
       " ['강원도 속초시 금호동', '보람레이크더하임', 156.76, 29500.0],\n",
       " ['강원도 영월군 영월읍 하송리', '드림채', 121.473, 25500.0],\n",
       " ['강원도 원주시 개운동', '원주힐스테이트', 133.9912, 26000.0],\n",
       " ['강원도 원주시 개운동', '원주힐스테이트', 137.4292, 24000.0],\n",
       " ['강원도 원주시 단구동', '두산', 134.97, 19000.0],\n",
       " ['강원도 원주시 단구동', '두산', 134.97, 17500.0],\n",
       " ['강원도 원주시 단구동', '중앙하이츠아파트', 133.8208, 22500.0],\n",
       " ['강원도 원주시 반곡동', '반곡벽산블루밍1차', 123.52, 24000.0],\n",
       " ['강원도 원주시 판부면 서곡리', '원주더샾아파트', 123.34, 25700.0],\n",
       " ['강원도 원주시 행구동', '건영', 133.92, 15000.0],\n",
       " ['강원도 춘천시 동면 만천리', '춘천KCC스위첸', 125.17, 24200.0],\n",
       " ['강원도 춘천시 동면 만천리', '한일유앤아이', 127.9717, 28000.0],\n",
       " ['강원도 춘천시 석사동', '현대', 134.99, 23500.0],\n",
       " ['강원도 춘천시 석사동', '현진에버빌2차', 126.25, 29500.0],\n",
       " ['강원도 춘천시 온의동', '보배', 126.57, 15000.0],\n",
       " ['강원도 춘천시 우두동', '롯데인벤스', 122.13, 20500.0],\n",
       " ['강원도 춘천시 우두동', '롯데인벤스', 122.13, 25000.0],\n",
       " ['강원도 춘천시 퇴계동', '금호2차', 134.43, 15900.0],\n",
       " ['강원도 춘천시 퇴계동', '금호2차', 134.43, 14900.0],\n",
       " ['강원도 춘천시 퇴계동', '쌍용스윗닷홈', 123.578, 27000.0],\n",
       " ['강원도 춘천시 퇴계동', '쌍용스윗닷홈', 123.578, 28000.0],\n",
       " ['강원도 춘천시 퇴계동', '쌍용스윗닷홈', 123.578, 27900.0],\n",
       " ['강원도 춘천시 퇴계동', '중앙하이츠빌1단지', 120.2572, 25800.0],\n",
       " ['강원도 춘천시 후평동', '동아', 135.0, 13800.0],\n",
       " ['강원도 춘천시 후평동', '춘천더샵', 127.2412, 28500.0],\n",
       " ['강원도 춘천시 후평동', '한신', 128.79, 16500.0],\n",
       " ['강원도 춘천시 후평동', '한신', 128.79, 15500.0]]"
      ]
     },
     "execution_count": 49,
     "metadata": {},
     "output_type": "execute_result"
    }
   ],
   "source": [
    "newlist"
   ]
  },
  {
   "cell_type": "code",
   "execution_count": 50,
   "metadata": {},
   "outputs": [
    {
     "data": {
      "text/plain": [
       "['시군구', '번지', '본번', '부번', '단지명', '면적', '계약년월', '계약일', '가격', '층', '건축년도', '도로명']"
      ]
     },
     "execution_count": 50,
     "metadata": {},
     "output_type": "execute_result"
    }
   ],
   "source": [
    "i = apt[0]\n",
    "i"
   ]
  },
  {
   "cell_type": "code",
   "execution_count": 51,
   "metadata": {},
   "outputs": [],
   "source": [
    "newlist = [[i[0],i[4],i[5],i[-4]]]\n",
    "\n",
    "for i in apt[1:]:\n",
    "    if i[5]>120 and i[-4]<30000 and re.match('강원도',i[0]):\n",
    "        newlist.append([i[0], i[4], i[5],i[-4]])\n",
    "        "
   ]
  },
  {
   "cell_type": "code",
   "execution_count": 52,
   "metadata": {},
   "outputs": [
    {
     "data": {
      "text/plain": [
       "[['시군구', '단지명', '면적', '가격'],\n",
       " ['강원도 강릉시 교동', '현대하이빌', 122.74, 28500.0],\n",
       " ['강원도 강릉시 남문동', '삼익그린맨션', 164.754, 21000.0],\n",
       " ['강원도 강릉시 입암동', '강릉입암동금호어울림', 123.09, 27900.0],\n",
       " ['강원도 강릉시 입암동', '이안강릉타운', 122.72, 25000.0],\n",
       " ['강원도 강릉시 홍제동', '강릉홍제힐스테이트', 129.689, 27200.0],\n",
       " ['강원도 강릉시 홍제동', '강릉홍제힐스테이트', 129.689, 29900.0],\n",
       " ['강원도 속초시 교동', '현대1', 121.98, 16000.0],\n",
       " ['강원도 속초시 교동', '현대2', 123.27, 20500.0],\n",
       " ['강원도 속초시 금호동', '보람레이크더하임', 156.76, 29500.0],\n",
       " ['강원도 영월군 영월읍 하송리', '드림채', 121.473, 25500.0],\n",
       " ['강원도 원주시 개운동', '원주힐스테이트', 133.9912, 26000.0],\n",
       " ['강원도 원주시 개운동', '원주힐스테이트', 137.4292, 24000.0],\n",
       " ['강원도 원주시 단구동', '두산', 134.97, 19000.0],\n",
       " ['강원도 원주시 단구동', '두산', 134.97, 17500.0],\n",
       " ['강원도 원주시 단구동', '중앙하이츠아파트', 133.8208, 22500.0],\n",
       " ['강원도 원주시 반곡동', '반곡벽산블루밍1차', 123.52, 24000.0],\n",
       " ['강원도 원주시 판부면 서곡리', '원주더샾아파트', 123.34, 25700.0],\n",
       " ['강원도 원주시 행구동', '건영', 133.92, 15000.0],\n",
       " ['강원도 춘천시 동면 만천리', '춘천KCC스위첸', 125.17, 24200.0],\n",
       " ['강원도 춘천시 동면 만천리', '한일유앤아이', 127.9717, 28000.0],\n",
       " ['강원도 춘천시 석사동', '현대', 134.99, 23500.0],\n",
       " ['강원도 춘천시 석사동', '현진에버빌2차', 126.25, 29500.0],\n",
       " ['강원도 춘천시 온의동', '보배', 126.57, 15000.0],\n",
       " ['강원도 춘천시 우두동', '롯데인벤스', 122.13, 20500.0],\n",
       " ['강원도 춘천시 우두동', '롯데인벤스', 122.13, 25000.0],\n",
       " ['강원도 춘천시 퇴계동', '금호2차', 134.43, 15900.0],\n",
       " ['강원도 춘천시 퇴계동', '금호2차', 134.43, 14900.0],\n",
       " ['강원도 춘천시 퇴계동', '쌍용스윗닷홈', 123.578, 27000.0],\n",
       " ['강원도 춘천시 퇴계동', '쌍용스윗닷홈', 123.578, 28000.0],\n",
       " ['강원도 춘천시 퇴계동', '쌍용스윗닷홈', 123.578, 27900.0],\n",
       " ['강원도 춘천시 퇴계동', '중앙하이츠빌1단지', 120.2572, 25800.0],\n",
       " ['강원도 춘천시 후평동', '동아', 135.0, 13800.0],\n",
       " ['강원도 춘천시 후평동', '춘천더샵', 127.2412, 28500.0],\n",
       " ['강원도 춘천시 후평동', '한신', 128.79, 16500.0],\n",
       " ['강원도 춘천시 후평동', '한신', 128.79, 15500.0]]"
      ]
     },
     "execution_count": 52,
     "metadata": {},
     "output_type": "execute_result"
    }
   ],
   "source": [
    "newlist"
   ]
  },
  {
   "cell_type": "code",
   "execution_count": 53,
   "metadata": {},
   "outputs": [],
   "source": [
    "usecsv.writecsv('over120_lower3000.csv',newlist)"
   ]
  },
  {
   "cell_type": "markdown",
   "metadata": {},
   "source": [
    "-------------"
   ]
  },
  {
   "cell_type": "code",
   "execution_count": 56,
   "metadata": {},
   "outputs": [],
   "source": [
    "import os,re,usecsv"
   ]
  },
  {
   "cell_type": "code",
   "execution_count": 55,
   "metadata": {},
   "outputs": [
    {
     "data": {
      "text/plain": [
       "'/media/dlwpgjs0723/ESD-USB/대학교/4학년 1학기/python 프젝/9주차 data'"
      ]
     },
     "execution_count": 55,
     "metadata": {},
     "output_type": "execute_result"
    }
   ],
   "source": [
    "os.getcwd()"
   ]
  },
  {
   "cell_type": "code",
   "execution_count": 57,
   "metadata": {},
   "outputs": [],
   "source": [
    "English = 'She is a vegetarian. She does not eat meat. She thinks that animals should not be killed. It is hard for her to hang out with people. Many people like to eat meat. She told his parents not to have meat. They laughed at her. She realized they couldn\\'t give up meat.'\n",
    "Korea = '그녀는 채식주의 자입니다. 그녀는 고기를 먹지 않습니다. 그녀는 동물을 죽이면 안된다고 생각합니다. 그녀가 사람들과 어울리는 것은 어렵습니다. 많은 사람들이 고기를 좋아합니다. 그녀는 부모에게 고기를 먹지 말라고 말했습니다. 그들은 그녀를 비웃었습니다. 그녀는 그들이 고기를 포기할 수 없다는 것을 깨달았습니다.'\n",
    "\n",
    "English_list = re.split('\\.',English)\n",
    "Korea_list = re.split('\\.',Korea)\n",
    "\n",
    "result = []\n",
    "\n",
    "for i in range(len(English_list)):\n",
    "    result.append([English_list[i],Korea_list[i]])\n",
    "\n",
    "usecsv.writecsv('Korea_English.csv',result)"
   ]
  },
  {
   "cell_type": "code",
   "execution_count": null,
   "metadata": {},
   "outputs": [],
   "source": []
  }
 ],
 "metadata": {
  "kernelspec": {
   "display_name": "freedom",
   "language": "python",
   "name": "playground"
  },
  "language_info": {
   "codemirror_mode": {
    "name": "ipython",
    "version": 3
   },
   "file_extension": ".py",
   "mimetype": "text/x-python",
   "name": "python",
   "nbconvert_exporter": "python",
   "pygments_lexer": "ipython3",
   "version": "3.9.2"
  }
 },
 "nbformat": 4,
 "nbformat_minor": 4
}
