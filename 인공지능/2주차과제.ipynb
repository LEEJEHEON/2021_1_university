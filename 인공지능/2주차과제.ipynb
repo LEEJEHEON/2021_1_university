{
 "cells": [
  {
   "cell_type": "code",
   "execution_count": 29,
   "metadata": {},
   "outputs": [],
   "source": [
    "class animal:\n",
    "    def __init__ (self, name):\n",
    "        self.name = name\n",
    "    def life(self):\n",
    "        return self.name + \" 죽는다.\"\n",
    "\n",
    "class bird(animal):\n",
    "    def action(self):\n",
    "        return self.name + \" 날 수 있다.\"\n",
    "\n",
    "class Penguin(bird):\n",
    "    def action (self):\n",
    "        return self.name +  \" 날 수 없다.\""
   ]
  },
  {
   "cell_type": "code",
   "execution_count": 30,
   "metadata": {},
   "outputs": [
    {
     "name": "stdout",
     "output_type": "stream",
     "text": [
      "펭귄 죽는다.\n",
      "펭귄 날 수 없다.\n"
     ]
    }
   ],
   "source": [
    "a = Penguin(\"펭귄\")\n",
    "\n",
    "print(a.life()) # 펭귄은 죽는가?\n",
    "print(a.action()) # 펭귄은 날 수 있나?"
   ]
  },
  {
   "cell_type": "code",
   "execution_count": 31,
   "metadata": {},
   "outputs": [
    {
     "data": {
      "text/plain": [
       "'새 날 수 있다.'"
      ]
     },
     "execution_count": 31,
     "metadata": {},
     "output_type": "execute_result"
    }
   ],
   "source": [
    "a = bird(\"새\")\n",
    "a.action()"
   ]
  },
  {
   "cell_type": "code",
   "execution_count": 32,
   "metadata": {},
   "outputs": [
    {
     "data": {
      "text/plain": [
       "'동물 죽는다.'"
      ]
     },
     "execution_count": 32,
     "metadata": {},
     "output_type": "execute_result"
    }
   ],
   "source": [
    "a = animal(\"동물\")\n",
    "a.life()"
   ]
  }
 ],
 "metadata": {
  "kernelspec": {
   "display_name": "Python 3",
   "language": "python",
   "name": "python3"
  },
  "language_info": {
   "codemirror_mode": {
    "name": "ipython",
    "version": 3
   },
   "file_extension": ".py",
   "mimetype": "text/x-python",
   "name": "python",
   "nbconvert_exporter": "python",
   "pygments_lexer": "ipython3",
   "version": "3.6.10"
  }
 },
 "nbformat": 4,
 "nbformat_minor": 5
}
